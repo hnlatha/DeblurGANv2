{
  "nbformat": 4,
  "nbformat_minor": 0,
  "metadata": {
    "colab": {
      "name": "1CCV 2019 Deblue cGan.ipynb",
      "provenance": [],
      "collapsed_sections": [],
      "include_colab_link": true
    },
    "kernelspec": {
      "name": "python3",
      "display_name": "Python 3"
    },
    "accelerator": "GPU"
  },
  "cells": [
    {
      "cell_type": "markdown",
      "metadata": {
        "id": "view-in-github",
        "colab_type": "text"
      },
      "source": [
        "<a href=\"https://colab.research.google.com/github/hnlatha/DeblurGANv2/blob/master/1CCV_2019_Deblue_cGan.ipynb\" target=\"_parent\"><img src=\"https://colab.research.google.com/assets/colab-badge.svg\" alt=\"Open In Colab\"/></a>"
      ]
    },
    {
      "cell_type": "code",
      "metadata": {
        "id": "DwLuK_nid66m",
        "colab_type": "code",
        "colab": {
          "base_uri": "https://localhost:8080/",
          "height": 145
        },
        "outputId": "f074b29c-b4e2-4e26-951b-f2d4d7d2a2c4"
      },
      "source": [
        "!git clone https://github.com/hnlatha/DeblurGANv2"
      ],
      "execution_count": 1,
      "outputs": [
        {
          "output_type": "stream",
          "text": [
            "Cloning into 'DeblurGANv2'...\n",
            "remote: Enumerating objects: 795, done.\u001b[K\n",
            "remote: Counting objects: 100% (795/795), done.\u001b[K\n",
            "remote: Compressing objects: 100% (397/397), done.\u001b[K\n",
            "remote: Total 795 (delta 412), reused 738 (delta 373), pack-reused 0\u001b[K\n",
            "Receiving objects: 100% (795/795), 61.77 MiB | 35.04 MiB/s, done.\n",
            "Resolving deltas: 100% (412/412), done.\n"
          ],
          "name": "stdout"
        }
      ]
    },
    {
      "cell_type": "code",
      "metadata": {
        "id": "6PxYuEDaeKqF",
        "colab_type": "code",
        "colab": {
          "base_uri": "https://localhost:8080/",
          "height": 35
        },
        "outputId": "503a6f4a-4cb5-4c6a-c6cc-08decec2a0a3"
      },
      "source": [
        "cd DeblurGANv2/"
      ],
      "execution_count": 2,
      "outputs": [
        {
          "output_type": "stream",
          "text": [
            "/content/DeblurGANv2\n"
          ],
          "name": "stdout"
        }
      ]
    },
    {
      "cell_type": "code",
      "metadata": {
        "id": "MvWUREJbeuqb",
        "colab_type": "code",
        "colab": {
          "base_uri": "https://localhost:8080/",
          "height": 108
        },
        "outputId": "d5b39af4-2658-4faa-a590-f360f4dd4d1c"
      },
      "source": [
        "ls"
      ],
      "execution_count": 3,
      "outputs": [
        {
          "output_type": "stream",
          "text": [
            "adversarial_trainer.py  LICENSE            requirements.txt  train.py\n",
            "aug.py                  metric_counter.py  schedulers.py     \u001b[0m\u001b[01;34mutil\u001b[0m/\n",
            "\u001b[01;34mconfig\u001b[0m/                 \u001b[01;34mmodels\u001b[0m/            test_aug.py\n",
            "dataset.py              predict.py         test_dataset.py\n",
            "\u001b[01;34mdoc_images\u001b[0m/             README.md          \u001b[01;32mtest.sh\u001b[0m*\n"
          ],
          "name": "stdout"
        }
      ]
    },
    {
      "cell_type": "code",
      "metadata": {
        "id": "-KelN0t8ev-g",
        "colab_type": "code",
        "colab": {
          "base_uri": "https://localhost:8080/",
          "height": 90
        },
        "outputId": "23c9a580-1ca8-4f24-e0be-193944b0a05b"
      },
      "source": [
        "!python predict.py 22.png"
      ],
      "execution_count": 5,
      "outputs": [
        {
          "output_type": "stream",
          "text": [
            "Traceback (most recent call last):\n",
            "  File \"predict.py\", line 9, in <module>\n",
            "    from fire import Fire\n",
            "ModuleNotFoundError: No module named 'fire'\n"
          ],
          "name": "stdout"
        }
      ]
    },
    {
      "cell_type": "code",
      "metadata": {
        "id": "guTIWhKKfj8s",
        "colab_type": "code",
        "colab": {
          "base_uri": "https://localhost:8080/",
          "height": 235
        },
        "outputId": "572c6cbd-cd7b-4a69-f849-e271f88cb4c1"
      },
      "source": [
        "!pip install fire"
      ],
      "execution_count": 7,
      "outputs": [
        {
          "output_type": "stream",
          "text": [
            "Collecting fire\n",
            "\u001b[?25l  Downloading https://files.pythonhosted.org/packages/d9/69/faeaae8687f4de0f5973694d02e9d6c3eb827636a009157352d98de1129e/fire-0.2.1.tar.gz (76kB)\n",
            "\u001b[K     |████████████████████████████████| 81kB 5.1MB/s \n",
            "\u001b[?25hRequirement already satisfied: six in /usr/local/lib/python3.6/dist-packages (from fire) (1.12.0)\n",
            "Requirement already satisfied: termcolor in /usr/local/lib/python3.6/dist-packages (from fire) (1.1.0)\n",
            "Building wheels for collected packages: fire\n",
            "  Building wheel for fire (setup.py) ... \u001b[?25l\u001b[?25hdone\n",
            "  Created wheel for fire: filename=fire-0.2.1-py2.py3-none-any.whl size=103527 sha256=633c11d62278f5858c8643221dc5b381e143fef62cb12ff54cdfcc565fa12234\n",
            "  Stored in directory: /root/.cache/pip/wheels/31/9c/c0/07b6dc7faf1844bb4688f46b569efe6cafaa2179c95db821da\n",
            "Successfully built fire\n",
            "Installing collected packages: fire\n",
            "Successfully installed fire-0.2.1\n"
          ],
          "name": "stdout"
        }
      ]
    },
    {
      "cell_type": "code",
      "metadata": {
        "id": "baYtkR4-fu5v",
        "colab_type": "code",
        "colab": {
          "base_uri": "https://localhost:8080/",
          "height": 345
        },
        "outputId": "9a729ecf-3284-4a7d-dbaa-bff2a3f89bff"
      },
      "source": [
        "!python predict.py 22.png"
      ],
      "execution_count": 11,
      "outputs": [
        {
          "output_type": "stream",
          "text": [
            "Downloading: \"http://data.lip6.fr/cadene/pretrainedmodels/inceptionresnetv2-520b38e4.pth\" to /root/.cache/torch/checkpoints/inceptionresnetv2-520b38e4.pth\n",
            "100% 213M/213M [10:29<00:00, 355kB/s]\n",
            "Traceback (most recent call last):\n",
            "  File \"predict.py\", line 97, in <module>\n",
            "    Fire(main)\n",
            "  File \"/usr/local/lib/python3.6/dist-packages/fire/core.py\", line 138, in Fire\n",
            "    component_trace = _Fire(component, args, parsed_flag_args, context, name)\n",
            "  File \"/usr/local/lib/python3.6/dist-packages/fire/core.py\", line 471, in _Fire\n",
            "    target=component.__name__)\n",
            "  File \"/usr/local/lib/python3.6/dist-packages/fire/core.py\", line 675, in _CallAndUpdateTrace\n",
            "    component = fn(*varargs, **kwargs)\n",
            "  File \"predict.py\", line 84, in main\n",
            "    predictor = Predictor(weights_path=weights_path)\n",
            "  File \"predict.py\", line 21, in __init__\n",
            "    model.load_state_dict(torch.load(weights_path)['model'])\n",
            "  File \"/usr/local/lib/python3.6/dist-packages/torch/serialization.py\", line 381, in load\n",
            "    f = open(f, 'rb')\n",
            "FileNotFoundError: [Errno 2] No such file or directory: 'best_fpn.h5'\n"
          ],
          "name": "stdout"
        }
      ]
    },
    {
      "cell_type": "code",
      "metadata": {
        "id": "iEVNWU5-f54g",
        "colab_type": "code",
        "colab": {
          "base_uri": "https://localhost:8080/",
          "height": 437
        },
        "outputId": "8633f8f6-9bd2-46c8-dd6c-ea0e9b79c2d8"
      },
      "source": [
        "!pip install pretrainedmodels"
      ],
      "execution_count": 10,
      "outputs": [
        {
          "output_type": "stream",
          "text": [
            "Collecting pretrainedmodels\n",
            "\u001b[?25l  Downloading https://files.pythonhosted.org/packages/84/0e/be6a0e58447ac16c938799d49bfb5fb7a80ac35e137547fc6cee2c08c4cf/pretrainedmodels-0.7.4.tar.gz (58kB)\n",
            "\r\u001b[K     |█████▋                          | 10kB 16.0MB/s eta 0:00:01\r\u001b[K     |███████████▏                    | 20kB 3.1MB/s eta 0:00:01\r\u001b[K     |████████████████▊               | 30kB 4.5MB/s eta 0:00:01\r\u001b[K     |██████████████████████▎         | 40kB 3.0MB/s eta 0:00:01\r\u001b[K     |███████████████████████████▉    | 51kB 3.7MB/s eta 0:00:01\r\u001b[K     |████████████████████████████████| 61kB 4.1MB/s \n",
            "\u001b[?25hRequirement already satisfied: torch in /usr/local/lib/python3.6/dist-packages (from pretrainedmodels) (1.2.0)\n",
            "Requirement already satisfied: torchvision in /usr/local/lib/python3.6/dist-packages (from pretrainedmodels) (0.4.0)\n",
            "Collecting munch (from pretrainedmodels)\n",
            "  Downloading https://files.pythonhosted.org/packages/68/f4/260ec98ea840757a0da09e0ed8135333d59b8dfebe9752a365b04857660a/munch-2.3.2.tar.gz\n",
            "Requirement already satisfied: tqdm in /usr/local/lib/python3.6/dist-packages (from pretrainedmodels) (4.28.1)\n",
            "Requirement already satisfied: numpy in /usr/local/lib/python3.6/dist-packages (from torch->pretrainedmodels) (1.16.5)\n",
            "Requirement already satisfied: six in /usr/local/lib/python3.6/dist-packages (from torchvision->pretrainedmodels) (1.12.0)\n",
            "Requirement already satisfied: pillow>=4.1.1 in /usr/local/lib/python3.6/dist-packages (from torchvision->pretrainedmodels) (4.3.0)\n",
            "Requirement already satisfied: olefile in /usr/local/lib/python3.6/dist-packages (from pillow>=4.1.1->torchvision->pretrainedmodels) (0.46)\n",
            "Building wheels for collected packages: pretrainedmodels, munch\n",
            "  Building wheel for pretrainedmodels (setup.py) ... \u001b[?25l\u001b[?25hdone\n",
            "  Created wheel for pretrainedmodels: filename=pretrainedmodels-0.7.4-cp36-none-any.whl size=60963 sha256=8723be31ff2c88275d38744d7c35ca9698bce1979edace44a1c937c99c1d31a9\n",
            "  Stored in directory: /root/.cache/pip/wheels/69/df/63/62583c096289713f22db605aa2334de5b591d59861a02c2ecd\n",
            "  Building wheel for munch (setup.py) ... \u001b[?25l\u001b[?25hdone\n",
            "  Created wheel for munch: filename=munch-2.3.2-py2.py3-none-any.whl size=6614 sha256=3ebbf9d53c1fc754e0cb9af55ce7d589ba137452e66c87c74e1a9aaeaba6c69f\n",
            "  Stored in directory: /root/.cache/pip/wheels/db/bf/bc/06a3e1bfe0ab27d2e720ceb3cff3159398d92644c0cec2c125\n",
            "Successfully built pretrainedmodels munch\n",
            "Installing collected packages: munch, pretrainedmodels\n",
            "Successfully installed munch-2.3.2 pretrainedmodels-0.7.4\n"
          ],
          "name": "stdout"
        }
      ]
    },
    {
      "cell_type": "code",
      "metadata": {
        "id": "KjWvjNIBf_VZ",
        "colab_type": "code",
        "colab": {}
      },
      "source": [
        "  "
      ],
      "execution_count": 0,
      "outputs": []
    },
    {
      "cell_type": "code",
      "metadata": {
        "colab_type": "code",
        "outputId": "9a729ecf-3284-4a7d-dbaa-bff2a3f89bff",
        "id": "ezG-Wa1Zm-8V",
        "colab": {
          "base_uri": "https://localhost:8080/",
          "height": 345
        }
      },
      "source": [
        "!python predict.py 22.png"
      ],
      "execution_count": 0,
      "outputs": [
        {
          "output_type": "stream",
          "text": [
            "Downloading: \"http://data.lip6.fr/cadene/pretrainedmodels/inceptionresnetv2-520b38e4.pth\" to /root/.cache/torch/checkpoints/inceptionresnetv2-520b38e4.pth\n",
            "100% 213M/213M [10:29<00:00, 355kB/s]\n",
            "Traceback (most recent call last):\n",
            "  File \"predict.py\", line 97, in <module>\n",
            "    Fire(main)\n",
            "  File \"/usr/local/lib/python3.6/dist-packages/fire/core.py\", line 138, in Fire\n",
            "    component_trace = _Fire(component, args, parsed_flag_args, context, name)\n",
            "  File \"/usr/local/lib/python3.6/dist-packages/fire/core.py\", line 471, in _Fire\n",
            "    target=component.__name__)\n",
            "  File \"/usr/local/lib/python3.6/dist-packages/fire/core.py\", line 675, in _CallAndUpdateTrace\n",
            "    component = fn(*varargs, **kwargs)\n",
            "  File \"predict.py\", line 84, in main\n",
            "    predictor = Predictor(weights_path=weights_path)\n",
            "  File \"predict.py\", line 21, in __init__\n",
            "    model.load_state_dict(torch.load(weights_path)['model'])\n",
            "  File \"/usr/local/lib/python3.6/dist-packages/torch/serialization.py\", line 381, in load\n",
            "    f = open(f, 'rb')\n",
            "FileNotFoundError: [Errno 2] No such file or directory: 'best_fpn.h5'\n"
          ],
          "name": "stdout"
        }
      ]
    },
    {
      "cell_type": "code",
      "metadata": {
        "id": "1AFbycoHnFWu",
        "colab_type": "code",
        "colab": {
          "base_uri": "https://localhost:8080/",
          "height": 308
        },
        "outputId": "8800d617-2c53-4454-d157-48733022c975"
      },
      "source": [
        "!python predict.py 22.png"
      ],
      "execution_count": 12,
      "outputs": [
        {
          "output_type": "stream",
          "text": [
            "Traceback (most recent call last):\n",
            "  File \"predict.py\", line 97, in <module>\n",
            "    Fire(main)\n",
            "  File \"/usr/local/lib/python3.6/dist-packages/fire/core.py\", line 138, in Fire\n",
            "    component_trace = _Fire(component, args, parsed_flag_args, context, name)\n",
            "  File \"/usr/local/lib/python3.6/dist-packages/fire/core.py\", line 471, in _Fire\n",
            "    target=component.__name__)\n",
            "  File \"/usr/local/lib/python3.6/dist-packages/fire/core.py\", line 675, in _CallAndUpdateTrace\n",
            "    component = fn(*varargs, **kwargs)\n",
            "  File \"predict.py\", line 84, in main\n",
            "    predictor = Predictor(weights_path=weights_path)\n",
            "  File \"predict.py\", line 21, in __init__\n",
            "    model.load_state_dict(torch.load(weights_path)['model'])\n",
            "  File \"/usr/local/lib/python3.6/dist-packages/torch/serialization.py\", line 381, in load\n",
            "    f = open(f, 'rb')\n",
            "FileNotFoundError: [Errno 2] No such file or directory: 'best_fpn.h5'\n"
          ],
          "name": "stdout"
        }
      ]
    },
    {
      "cell_type": "code",
      "metadata": {
        "id": "IEHzLmHinF-3",
        "colab_type": "code",
        "colab": {
          "base_uri": "https://localhost:8080/",
          "height": 308
        },
        "outputId": "f6942dd2-5cf5-4e78-9f0a-cd15b19ece7a"
      },
      "source": [
        "!python predict.py 22.png"
      ],
      "execution_count": 13,
      "outputs": [
        {
          "output_type": "stream",
          "text": [
            "Traceback (most recent call last):\n",
            "  File \"predict.py\", line 97, in <module>\n",
            "    Fire(main)\n",
            "  File \"/usr/local/lib/python3.6/dist-packages/fire/core.py\", line 138, in Fire\n",
            "    component_trace = _Fire(component, args, parsed_flag_args, context, name)\n",
            "  File \"/usr/local/lib/python3.6/dist-packages/fire/core.py\", line 471, in _Fire\n",
            "    target=component.__name__)\n",
            "  File \"/usr/local/lib/python3.6/dist-packages/fire/core.py\", line 675, in _CallAndUpdateTrace\n",
            "    component = fn(*varargs, **kwargs)\n",
            "  File \"predict.py\", line 84, in main\n",
            "    predictor = Predictor(weights_path=weights_path)\n",
            "  File \"predict.py\", line 21, in __init__\n",
            "    model.load_state_dict(torch.load(weights_path)['model'])\n",
            "  File \"/usr/local/lib/python3.6/dist-packages/torch/serialization.py\", line 381, in load\n",
            "    f = open(f, 'rb')\n",
            "FileNotFoundError: [Errno 2] No such file or directory: 'best_fpn.h5'\n"
          ],
          "name": "stdout"
        }
      ]
    },
    {
      "cell_type": "code",
      "metadata": {
        "id": "_K4dUebOnbMa",
        "colab_type": "code",
        "colab": {
          "base_uri": "https://localhost:8080/",
          "height": 35
        },
        "outputId": "0991ac42-5964-4e90-9e47-7923d7a2733b"
      },
      "source": [
        "pwd"
      ],
      "execution_count": 14,
      "outputs": [
        {
          "output_type": "execute_result",
          "data": {
            "text/plain": [
              "'/content/DeblurGANv2'"
            ]
          },
          "metadata": {
            "tags": []
          },
          "execution_count": 14
        }
      ]
    },
    {
      "cell_type": "code",
      "metadata": {
        "id": "FmYKy4Il3E4M",
        "colab_type": "code",
        "colab": {
          "base_uri": "https://localhost:8080/",
          "height": 92
        },
        "outputId": "7945c5ce-6eda-4f50-9c29-442edbe0fbb8"
      },
      "source": [
        "!python predict.py 22.png"
      ],
      "execution_count": 15,
      "outputs": [
        {
          "output_type": "stream",
          "text": [
            "  0% 0/1 [00:00<?, ?it/s]/usr/local/lib/python3.6/dist-packages/torch/nn/functional.py:2390: UserWarning: nn.functional.upsample is deprecated. Use nn.functional.interpolate instead.\n",
            "  warnings.warn(\"nn.functional.upsample is deprecated. Use nn.functional.interpolate instead.\")\n",
            "100% 1/1 [00:00<00:00,  2.28it/s]\n"
          ],
          "name": "stdout"
        }
      ]
    },
    {
      "cell_type": "code",
      "metadata": {
        "id": "buJE6nMy6WoX",
        "colab_type": "code",
        "colab": {
          "base_uri": "https://localhost:8080/",
          "height": 92
        },
        "outputId": "2bbb1a2c-af48-49b5-ac40-da827592fd20"
      },
      "source": [
        "!python predict.py 28.png"
      ],
      "execution_count": 17,
      "outputs": [
        {
          "output_type": "stream",
          "text": [
            "\r  0% 0/1 [00:00<?, ?it/s]/usr/local/lib/python3.6/dist-packages/torch/nn/functional.py:2390: UserWarning: nn.functional.upsample is deprecated. Use nn.functional.interpolate instead.\n",
            "  warnings.warn(\"nn.functional.upsample is deprecated. Use nn.functional.interpolate instead.\")\n",
            "100% 1/1 [00:00<00:00,  4.25it/s]\n"
          ],
          "name": "stdout"
        }
      ]
    },
    {
      "cell_type": "code",
      "metadata": {
        "id": "8-_n4YQq6_Te",
        "colab_type": "code",
        "colab": {
          "base_uri": "https://localhost:8080/",
          "height": 92
        },
        "outputId": "528c583a-adb5-4cb7-9144-cb51c1443357"
      },
      "source": [
        "!python predict.py 19.png"
      ],
      "execution_count": 18,
      "outputs": [
        {
          "output_type": "stream",
          "text": [
            "\r  0% 0/1 [00:00<?, ?it/s]/usr/local/lib/python3.6/dist-packages/torch/nn/functional.py:2390: UserWarning: nn.functional.upsample is deprecated. Use nn.functional.interpolate instead.\n",
            "  warnings.warn(\"nn.functional.upsample is deprecated. Use nn.functional.interpolate instead.\")\n",
            "100% 1/1 [00:00<00:00,  4.23it/s]\n"
          ],
          "name": "stdout"
        }
      ]
    },
    {
      "cell_type": "code",
      "metadata": {
        "id": "70bdBtXI8QCu",
        "colab_type": "code",
        "colab": {
          "base_uri": "https://localhost:8080/",
          "height": 126
        },
        "outputId": "27832b78-beba-4ba6-bfed-86f702c39eed"
      },
      "source": [
        "!python train.py"
      ],
      "execution_count": 20,
      "outputs": [
        {
          "output_type": "stream",
          "text": [
            "Traceback (most recent call last):\n",
            "  File \"train.py\", line 13, in <module>\n",
            "    from dataset import PairedDataset\n",
            "  File \"/content/DeblurGANv2/dataset.py\", line 10, in <module>\n",
            "    from glog import logger\n",
            "ModuleNotFoundError: No module named 'glog'\n"
          ],
          "name": "stdout"
        }
      ]
    },
    {
      "cell_type": "code",
      "metadata": {
        "id": "FY_B9tAb9iD2",
        "colab_type": "code",
        "colab": {
          "base_uri": "https://localhost:8080/",
          "height": 254
        },
        "outputId": "bb2fd4d0-9b07-44d8-f479-8e22051c588e"
      },
      "source": [
        "!pip install glog"
      ],
      "execution_count": 22,
      "outputs": [
        {
          "output_type": "stream",
          "text": [
            "Collecting glog\n",
            "  Downloading https://files.pythonhosted.org/packages/39/42/d2502683e9d9086cba5fb741c9b66c72ab1a852d046e1d54d2b80221b69f/glog-0.3.1-py2.py3-none-any.whl\n",
            "Collecting python-gflags>=3.1 (from glog)\n",
            "\u001b[?25l  Downloading https://files.pythonhosted.org/packages/df/ec/e31302d355bcb9d207d9b858adc1ecc4a6d8c855730c8ba4ddbdd3f8eb8d/python-gflags-3.1.2.tar.gz (52kB)\n",
            "\u001b[K     |████████████████████████████████| 61kB 7.8MB/s \n",
            "\u001b[?25hRequirement already satisfied: six in /usr/local/lib/python3.6/dist-packages (from glog) (1.12.0)\n",
            "Building wheels for collected packages: python-gflags\n",
            "  Building wheel for python-gflags (setup.py) ... \u001b[?25l\u001b[?25hdone\n",
            "  Created wheel for python-gflags: filename=python_gflags-3.1.2-cp36-none-any.whl size=57368 sha256=061b3e9983a3514a792982ee3a2a39a57d347ed9a3a484dfb7952f62a343308c\n",
            "  Stored in directory: /root/.cache/pip/wheels/ef/ee/0e/63b3049d40b223fe2d177a18acff993ac5e491e66a1744c3b6\n",
            "Successfully built python-gflags\n",
            "Installing collected packages: python-gflags, glog\n",
            "Successfully installed glog-0.3.1 python-gflags-3.1.2\n"
          ],
          "name": "stdout"
        }
      ]
    },
    {
      "cell_type": "code",
      "metadata": {
        "id": "lAkd4Bww9tq8",
        "colab_type": "code",
        "colab": {
          "base_uri": "https://localhost:8080/",
          "height": 126
        },
        "outputId": "06da45d7-9597-42af-ddd1-8a635b34e9e3"
      },
      "source": [
        "!python train.py"
      ],
      "execution_count": 23,
      "outputs": [
        {
          "output_type": "stream",
          "text": [
            "Traceback (most recent call last):\n",
            "  File \"train.py\", line 14, in <module>\n",
            "    from metric_counter import MetricCounter\n",
            "  File \"/content/DeblurGANv2/metric_counter.py\", line 5, in <module>\n",
            "    from tensorboardX import SummaryWriter\n",
            "ModuleNotFoundError: No module named 'tensorboardX'\n"
          ],
          "name": "stdout"
        }
      ]
    },
    {
      "cell_type": "code",
      "metadata": {
        "id": "IlYgO8gh90g6",
        "colab_type": "code",
        "colab": {
          "base_uri": "https://localhost:8080/",
          "height": 381
        },
        "outputId": "7b9b90e5-2d6a-428b-9649-c1cabf7e4e83"
      },
      "source": [
        "!pip install tensorboardX"
      ],
      "execution_count": 24,
      "outputs": [
        {
          "output_type": "stream",
          "text": [
            "Collecting tensorboardX\n",
            "\u001b[?25l  Downloading https://files.pythonhosted.org/packages/a6/5c/e918d9f190baab8d55bad52840d8091dd5114cc99f03eaa6d72d404503cc/tensorboardX-1.9-py2.py3-none-any.whl (190kB)\n",
            "\r\u001b[K     |█▊                              | 10kB 16.7MB/s eta 0:00:01\r\u001b[K     |███▍                            | 20kB 3.2MB/s eta 0:00:01\r\u001b[K     |█████▏                          | 30kB 4.6MB/s eta 0:00:01\r\u001b[K     |██████▉                         | 40kB 3.0MB/s eta 0:00:01\r\u001b[K     |████████▋                       | 51kB 3.7MB/s eta 0:00:01\r\u001b[K     |██████████▎                     | 61kB 4.4MB/s eta 0:00:01\r\u001b[K     |████████████                    | 71kB 4.9MB/s eta 0:00:01\r\u001b[K     |█████████████▊                  | 81kB 5.5MB/s eta 0:00:01\r\u001b[K     |███████████████▌                | 92kB 6.1MB/s eta 0:00:01\r\u001b[K     |█████████████████▏              | 102kB 4.9MB/s eta 0:00:01\r\u001b[K     |███████████████████             | 112kB 4.9MB/s eta 0:00:01\r\u001b[K     |████████████████████▋           | 122kB 4.9MB/s eta 0:00:01\r\u001b[K     |██████████████████████▍         | 133kB 4.9MB/s eta 0:00:01\r\u001b[K     |████████████████████████        | 143kB 4.9MB/s eta 0:00:01\r\u001b[K     |█████████████████████████▊      | 153kB 4.9MB/s eta 0:00:01\r\u001b[K     |███████████████████████████▌    | 163kB 4.9MB/s eta 0:00:01\r\u001b[K     |█████████████████████████████▏  | 174kB 4.9MB/s eta 0:00:01\r\u001b[K     |███████████████████████████████ | 184kB 4.9MB/s eta 0:00:01\r\u001b[K     |████████████████████████████████| 194kB 4.9MB/s \n",
            "\u001b[?25hRequirement already satisfied: numpy in /usr/local/lib/python3.6/dist-packages (from tensorboardX) (1.16.5)\n",
            "Requirement already satisfied: six in /usr/local/lib/python3.6/dist-packages (from tensorboardX) (1.12.0)\n",
            "Collecting protobuf>=3.8.0 (from tensorboardX)\n",
            "\u001b[?25l  Downloading https://files.pythonhosted.org/packages/a8/52/d8d2dbff74b8bf517c42db8d44c3f9ef6555e6f5d6caddfa3f207b9143df/protobuf-3.10.0-cp36-cp36m-manylinux1_x86_64.whl (1.3MB)\n",
            "\u001b[K     |████████████████████████████████| 1.3MB 40.8MB/s \n",
            "\u001b[?25hRequirement already satisfied: setuptools in /usr/local/lib/python3.6/dist-packages (from protobuf>=3.8.0->tensorboardX) (41.2.0)\n",
            "Installing collected packages: protobuf, tensorboardX\n",
            "  Found existing installation: protobuf 3.7.1\n",
            "    Uninstalling protobuf-3.7.1:\n",
            "      Successfully uninstalled protobuf-3.7.1\n",
            "Successfully installed protobuf-3.10.0 tensorboardX-1.9\n"
          ],
          "name": "stdout"
        },
        {
          "output_type": "display_data",
          "data": {
            "application/vnd.colab-display-data+json": {
              "pip_warning": {
                "packages": [
                  "google"
                ]
              }
            }
          },
          "metadata": {
            "tags": []
          }
        }
      ]
    },
    {
      "cell_type": "code",
      "metadata": {
        "id": "twzpiSkD_UKP",
        "colab_type": "code",
        "colab": {}
      },
      "source": [
        ""
      ],
      "execution_count": 0,
      "outputs": []
    }
  ]
}